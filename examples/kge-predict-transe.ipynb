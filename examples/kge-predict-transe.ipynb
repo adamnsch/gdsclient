{
 "cells": [
  {
   "cell_type": "code",
   "execution_count": null,
   "outputs": [],
   "source": [
    "from graphdatascience import GraphDataScience\n",
    "from torch_geometric.data import Data, download_url\n",
    "import torch\n",
    "import torch.optim as optim\n",
    "from torch_geometric.nn import TransE"
   ],
   "metadata": {
    "collapsed": false
   }
  },
  {
   "cell_type": "code",
   "execution_count": null,
   "outputs": [],
   "source": [
    "gds = GraphDataScience(\"bolt://localhost:7687\", auth=('neo4j', 'neo4jneo4j'), database=\"fb15k-237\")"
   ],
   "metadata": {
    "collapsed": false
   }
  },
  {
   "cell_type": "code",
   "execution_count": null,
   "outputs": [],
   "source": [
    "url = ('https://raw.githubusercontent.com/villmow/datasets_knowledge_embedding/master/FB15k-237')\n",
    "raw_file_names = ['train.txt', 'valid.txt', 'test.txt']\n",
    "raw_dir = './data_from_url'\n",
    "for filename in raw_file_names:\n",
    "    download_url(f'{url}/{filename}', raw_dir)"
   ],
   "metadata": {
    "collapsed": false
   }
  },
  {
   "cell_type": "code",
   "execution_count": null,
   "outputs": [],
   "source": [
    "def process():\n",
    "    data_list_, node_dict_, rel_dict_ = [], {}, {}\n",
    "    for file_name in raw_file_names:\n",
    "        file_name_path = raw_dir + '/' + file_name\n",
    "        with open(file_name_path, 'r') as f:\n",
    "            data = [x.split('\\t') for x in f.read().split('\\n')[:-1]]\n",
    "\n",
    "        edge_index = torch.empty((2, len(data)), dtype=torch.long)\n",
    "        edge_type = torch.empty(len(data), dtype=torch.long)\n",
    "        for i, (src, rel, dst) in enumerate(data):\n",
    "            if src not in node_dict_:\n",
    "                node_dict_[src] = len(node_dict_)\n",
    "            if dst not in node_dict_:\n",
    "                node_dict_[dst] = len(node_dict_)\n",
    "            if rel not in rel_dict_:\n",
    "                rel_dict_[rel] = len(rel_dict_)\n",
    "\n",
    "            edge_index[0, i] = node_dict_[src]\n",
    "            edge_index[1, i] = node_dict_[dst]\n",
    "            edge_type[i] = rel_dict_[rel]\n",
    "\n",
    "        data = Data(edge_index=edge_index, edge_type=edge_type)\n",
    "        data_list_.append(data)\n",
    "\n",
    "    for data in data_list_:\n",
    "        data.num_nodes = len(node_dict_)\n",
    "\n",
    "    return data_list_, node_dict_, rel_dict_\n",
    "\n",
    "data_list, node_dict, rel_dict = process()"
   ],
   "metadata": {
    "collapsed": false
   }
  },
  {
   "cell_type": "code",
   "execution_count": null,
   "outputs": [],
   "source": [
    "gds.run_cypher(\"CREATE CONSTRAINT entity_id FOR (e:Entity) REQUIRE e.id IS UNIQUE\")"
   ],
   "metadata": {
    "collapsed": false
   }
  },
  {
   "cell_type": "code",
   "execution_count": null,
   "outputs": [],
   "source": [
    "rel_id_to_text_dict = {}\n",
    "for k in rel_dict:\n",
    "    text = k\n",
    "    id = rel_dict[k]\n",
    "    rel_id_to_text_dict[id] = text"
   ],
   "metadata": {
    "collapsed": false
   }
  },
  {
   "cell_type": "code",
   "execution_count": null,
   "outputs": [],
   "source": [
    "def write_chunk(chunk_dict):\n",
    "    gds.run_cypher(\n",
    "            \"UNWIND $nodes AS node CREATE (n:Entity {id: node[1], value: node[0]})\",\n",
    "            params={\"nodes\": list(chunk_dict.items())},\n",
    "        )\n",
    "\n",
    "idx = 0\n",
    "chunk_size = 1000\n",
    "chunk_dict = {}\n",
    "for k in node_dict:\n",
    "    chunk_dict[k] = node_dict[k]\n",
    "    idx += 1\n",
    "    if idx % chunk_size == 0:\n",
    "        write_chunk(chunk_dict)\n",
    "        chunk_dict = {}\n",
    "if len(chunk_dict) > 0:\n",
    "    write_chunk(chunk_dict)\n",
    "print(f\"TOTAL records: {idx} from {len(node_dict)}\")"
   ],
   "metadata": {
    "collapsed": false
   }
  },
  {
   "cell_type": "code",
   "execution_count": null,
   "outputs": [],
   "source": [
    "def write_rel_chunk(ll:list, label):\n",
    "    gds.run_cypher(\n",
    "            \"UNWIND $list AS l MATCH (e_s:Entity {id: l.source}), (e_t:Entity {id: l.target}) \"+\n",
    "            \"CREATE (e_s)-[\"+label+\" { rel_id: l.id, text: l.text }]->(e_t)\",\n",
    "            params={\"list\": ll},\n",
    "        )\n",
    "\n",
    "def create_rels(data:Data, label:str):\n",
    "    idx = 0\n",
    "    chunk_size = 1000\n",
    "    chunk_list = []\n",
    "    print(\"Writing \" + label + \" relationships\")\n",
    "    for i in range(data.num_edges):\n",
    "        source = data.edge_index[0, i].item()\n",
    "        target = data.edge_index[1, i].item()\n",
    "        id = data.edge_type[i].item()\n",
    "        text = rel_id_to_text_dict[id]\n",
    "        l = {\n",
    "            \"source\": source,\n",
    "            \"target\": target,\n",
    "            \"id\": id,\n",
    "            \"text\": text\n",
    "        }\n",
    "        chunk_list.append(l)\n",
    "        idx += 1\n",
    "        if idx % chunk_size == 0:\n",
    "            write_rel_chunk(chunk_list, label)\n",
    "            chunk_list = []\n",
    "    if len(chunk_list) > 0:\n",
    "        write_rel_chunk(chunk_list, label)\n",
    "    print(f\"TOTAL records: {idx} from {data.num_edges}\")\n",
    "\n",
    "create_rels(data_list[0], \":TRAIN\")\n",
    "create_rels(data_list[1], \":VAL\")\n",
    "create_rels(data_list[2], \":TEST\")"
   ],
   "metadata": {
    "collapsed": false
   }
  },
  {
   "cell_type": "code",
   "execution_count": null,
   "outputs": [],
   "source": [
    "# Node: (:Entity {id:int, value:str})\n",
    "# Edge: [:(TRAIN|TEST|VAL) {rel_id:int, text:str}]"
   ],
   "metadata": {
    "collapsed": false
   }
  },
  {
   "cell_type": "code",
   "execution_count": null,
   "outputs": [],
   "source": [
    "def print_graph_info(G):\n",
    "    print(f\"Graph '{G.name()}' node count: {G.node_count()}\")\n",
    "    print(f\"Graph '{G.name()}' node labels: {G.node_labels()}\")\n",
    "    print(f\"Graph '{G.name()}' relationship types: {G.relationship_types()}\")\n",
    "    print(f\"Graph '{G.name()}' relationship count: {G.relationship_count()}\")\n",
    "\n",
    "def get_data_from_db(edge_label):\n",
    "    node_projection = {\"Entity\": {\"properties\": \"id\"}}\n",
    "    relationship_projection = {edge_label : {\"orientation\": \"NATURAL\", \"properties\": \"rel_id\"}}\n",
    "    G, result = gds.graph.project(\n",
    "        \"fb15k-graph-tt\"+edge_label,\n",
    "        node_projection,\n",
    "        relationship_projection,\n",
    "    )\n",
    "    print(f\"The projection took {result['projectMillis']} ms\")\n",
    "    print_graph_info(G)\n",
    "\n",
    "    return G\n",
    "\n",
    "def get_whole_dataset():\n",
    "    node_projection = {\"Entity\": {\"properties\": \"id\"}}\n",
    "    relationship_projection = {\n",
    "        \"TRAIN\" : {\"orientation\": \"NATURAL\", \"properties\": \"rel_id\"},\n",
    "        \"TEST\" : {\"orientation\": \"NATURAL\", \"properties\": \"rel_id\"},\n",
    "        \"VAL\" : {\"orientation\": \"NATURAL\", \"properties\": \"rel_id\"},\n",
    "    }\n",
    "    G, result = gds.graph.project(\n",
    "        \"fb15k-graph-whole\",\n",
    "        node_projection,\n",
    "        relationship_projection,\n",
    "    )\n",
    "    print(f\"The projection took {result['projectMillis']} ms\")\n",
    "    print_graph_info(G)\n",
    "\n",
    "    return G"
   ],
   "metadata": {
    "collapsed": false
   }
  },
  {
   "cell_type": "code",
   "execution_count": null,
   "outputs": [],
   "source": [
    "train_db_data_G = get_data_from_db(\"TRAIN\")\n",
    "test_db_data_G = get_data_from_db(\"TEST\")\n",
    "val_db_data_G = get_data_from_db(\"VAL\")\n",
    "db_data_G = get_whole_dataset()"
   ],
   "metadata": {
    "collapsed": false
   }
  },
  {
   "cell_type": "code",
   "execution_count": null,
   "outputs": [],
   "source": [
    "node_properties = gds.graph.nodeProperties.stream(\n",
    "    db_data_G,\n",
    "    [\"id\"],\n",
    "    separate_property_columns=True,\n",
    ")\n",
    "print(node_properties)"
   ],
   "metadata": {
    "collapsed": false
   }
  },
  {
   "cell_type": "code",
   "execution_count": null,
   "outputs": [],
   "source": [
    "nodeId_to_id = dict(zip(node_properties.nodeId, node_properties.id))\n",
    "id_to_nodeId = dict(zip(node_properties.id, node_properties.nodeId))"
   ],
   "metadata": {
    "collapsed": false
   }
  },
  {
   "cell_type": "code",
   "execution_count": null,
   "outputs": [],
   "source": [
    "def create_tensor(graph):\n",
    "    rels_tmp = gds.graph.relationshipProperties.stream(graph, [\"rel_id\"], separate_property_columns=True)\n",
    "    topology = [rels_tmp.sourceNodeId.map(lambda x: nodeId_to_id[x]), rels_tmp.targetNodeId.map(lambda x: nodeId_to_id[x])]\n",
    "    edge_index = torch.tensor(topology, dtype=torch.long)\n",
    "    edge_type = torch.tensor(rels_tmp.rel_id.astype(int), dtype=torch.long)\n",
    "    data = Data(edge_index=edge_index, edge_type=edge_type)\n",
    "    data.num_nodes = len(nodeId_to_id)\n",
    "    display(data)\n",
    "    return data\n",
    "\n",
    "train_tensor = create_tensor(train_db_data_G)\n",
    "test_tensor = create_tensor(test_db_data_G)\n",
    "val_tensor = create_tensor(val_db_data_G)"
   ],
   "metadata": {
    "collapsed": false
   }
  },
  {
   "cell_type": "code",
   "execution_count": null,
   "outputs": [],
   "source": [
    "device = 'cuda' if torch.cuda.is_available() else 'cpu'\n",
    "\n",
    "model = TransE(\n",
    "    num_nodes=train_tensor.num_nodes,\n",
    "    num_relations=train_tensor.num_edge_types,\n",
    "    hidden_channels=50,\n",
    ").to(device)\n",
    "\n",
    "loader = model.loader(\n",
    "    head_index=train_tensor.edge_index[0],\n",
    "    rel_type=train_tensor.edge_type,\n",
    "    tail_index=train_tensor.edge_index[1],\n",
    "    batch_size=1000,\n",
    "    shuffle=True,\n",
    ")\n",
    "\n",
    "optimizer = optim.Adam(model.parameters(), lr=0.01)\n",
    "\n",
    "\n",
    "def train():\n",
    "    model.train()\n",
    "    total_loss = total_examples = 0\n",
    "    for head_index, rel_type, tail_index in loader:\n",
    "        optimizer.zero_grad()\n",
    "        loss = model.loss(head_index, rel_type, tail_index)\n",
    "        loss.backward()\n",
    "        optimizer.step()\n",
    "        total_loss += float(loss) * head_index.numel()\n",
    "        total_examples += head_index.numel()\n",
    "    return total_loss / total_examples\n",
    "\n",
    "\n",
    "@torch.no_grad()\n",
    "def test(data):\n",
    "    model.eval()\n",
    "    return model.test(\n",
    "        head_index=data.edge_index[0],\n",
    "        rel_type=data.edge_type,\n",
    "        tail_index=data.edge_index[1],\n",
    "        batch_size=20000,\n",
    "        k=10,\n",
    "    )\n",
    "\n",
    "\n",
    "for epoch in range(1, 501):\n",
    "    loss = train()\n",
    "    print(f'Epoch: {epoch:03d}, Loss: {loss:.4f}')\n",
    "    if epoch % 75 == 0:\n",
    "        rank, hits = test(val_tensor)\n",
    "        print(f'Epoch: {epoch:03d}, Val Mean Rank: {rank:.2f}, '\n",
    "              f'Val Hits@10: {hits:.4f}')\n",
    "\n",
    "print(model)\n",
    "idx = torch.LongTensor([1])\n",
    "print(model.rel_emb(idx))\n",
    "rank, hits_at_10 = test(test_tensor)\n",
    "print(f'Test Mean Rank: {rank:.2f}, Test Hits@10: {hits_at_10:.4f}')"
   ],
   "metadata": {
    "collapsed": false
   }
  },
  {
   "cell_type": "code",
   "execution_count": null,
   "outputs": [],
   "source": [
    "torch.save(model, \"./model_501.pt\")"
   ],
   "metadata": {
    "collapsed": false
   }
  },
  {
   "cell_type": "code",
   "execution_count": null,
   "outputs": [],
   "source": [
    "torch.save(model.state_dict(), \"./model_501_st_dict\")"
   ],
   "metadata": {
    "collapsed": false
   }
  },
  {
   "cell_type": "code",
   "execution_count": null,
   "outputs": [],
   "source": [
    "model = torch.load(\"./model_501.pt\")"
   ],
   "metadata": {
    "collapsed": false
   }
  },
  {
   "cell_type": "code",
   "execution_count": null,
   "outputs": [],
   "source": [
    "# write embeddings to graph\n",
    "for i in range(0, len(nodeId_to_id)):\n",
    "    if i % 100 == 0:\n",
    "        print(f\"Node embeddings uploading: {i} of {len(nodeId_to_id)}\", end=\"\\r\")\n",
    "    gds.run_cypher(\n",
    "            \"MATCH (n:Entity {id: $i}) SET n.emb = $EMBEDDING\",\n",
    "            params={\n",
    "                \"i\": i,\n",
    "                \"EMBEDDING\": model.node_emb.weight[i].tolist()\n",
    "            },\n",
    "        )"
   ],
   "metadata": {
    "collapsed": false
   }
  },
  {
   "cell_type": "code",
   "execution_count": null,
   "outputs": [],
   "source": [
    "# prediction stage"
   ],
   "metadata": {
    "collapsed": false
   }
  },
  {
   "cell_type": "code",
   "execution_count": null,
   "outputs": [],
   "source": [
    "# 1. Pick relation id to predict\n",
    "rel_id_to_predict = 17\n",
    "rel_label_to_predict = f\"REL_{rel_id_to_predict}\""
   ],
   "metadata": {
    "collapsed": false
   }
  },
  {
   "cell_type": "code",
   "execution_count": null,
   "outputs": [],
   "source": [
    "# 2. Put correspond relationships to the graph\n",
    "def write_rel_chunk(ll:list, label):\n",
    "    gds.run_cypher(\n",
    "            \"UNWIND $list AS l MATCH (e_s:Entity {id: l.source}), (e_t:Entity {id: l.target}) \"+\n",
    "            \"CREATE (e_s)-[\"+label+\"{ text: l.text }]->(e_t)\",\n",
    "            params={\"list\": ll},\n",
    "        )\n",
    "\n",
    "data = test_tensor\n",
    "list_of_target_rels = []\n",
    "for i in range(data.num_edges):\n",
    "    if data.edge_type[i].item() != rel_id_to_predict:\n",
    "        pass\n",
    "    source = data.edge_index[0, i].item()\n",
    "    target = data.edge_index[1, i].item()\n",
    "    id = data.edge_type[i].item()\n",
    "    text = rel_id_to_text_dict[id]\n",
    "    l = {\n",
    "        \"source\": source,\n",
    "        \"target\": target,\n",
    "        \"text\": text\n",
    "    }\n",
    "    list_of_target_rels.append(l)\n",
    "write_rel_chunk(list_of_target_rels, \":\"+rel_label_to_predict)"
   ],
   "metadata": {
    "collapsed": false
   }
  },
  {
   "cell_type": "code",
   "execution_count": null,
   "outputs": [],
   "source": [
    "# 3. Get embedding of that rel from the model\n",
    "target_emb = model.node_emb.weight[rel_id_to_predict].tolist()"
   ],
   "metadata": {
    "collapsed": false
   }
  },
  {
   "cell_type": "code",
   "execution_count": null,
   "outputs": [],
   "source": [
    "# 4. Project graph to test\n",
    "node_projection_test = {\"Entity\": {\"properties\": [\"id\", \"emb\"] }}\n",
    "relationship_projection_test = {rel_label_to_predict : {\"orientation\": \"NATURAL\"}}\n",
    "G_test, result = gds.graph.project(\n",
    "        \"graph_to_test1\",\n",
    "        node_projection_test,\n",
    "        relationship_projection_test,\n",
    "    )\n",
    "print_graph_info(G_test)"
   ],
   "metadata": {
    "collapsed": false
   }
  },
  {
   "cell_type": "code",
   "execution_count": null,
   "outputs": [],
   "source": [
    "# 5. Set the model to predict\n",
    "transe_model = gds.model.transe.create(\n",
    "    G_test, \"emb\", {rel_label_to_predict: target_emb}\n",
    ")\n",
    "result = transe_model.predict_stream(\n",
    "    source_node_filter=[id_to_nodeId[5], id_to_nodeId[10]],\n",
    "    target_node_filter=\"Entity\",\n",
    "    relationship_type=rel_label_to_predict,\n",
    "    top_k=3,\n",
    "    concurrency=4\n",
    ")\n",
    "print(result)"
   ],
   "metadata": {
    "collapsed": false
   }
  }
 ],
 "metadata": {
  "kernelspec": {
   "display_name": "Python 3",
   "language": "python",
   "name": "python3"
  },
  "language_info": {
   "codemirror_mode": {
    "name": "ipython",
    "version": 2
   },
   "file_extension": ".py",
   "mimetype": "text/x-python",
   "name": "python",
   "nbconvert_exporter": "python",
   "pygments_lexer": "ipython2",
   "version": "2.7.6"
  }
 },
 "nbformat": 4,
 "nbformat_minor": 0
}
