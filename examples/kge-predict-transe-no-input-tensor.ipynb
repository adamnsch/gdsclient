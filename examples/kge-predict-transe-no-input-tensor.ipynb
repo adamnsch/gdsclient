{
 "cells": [
  {
   "cell_type": "code",
   "execution_count": 1,
   "outputs": [],
   "source": [
    "import collections\n",
    "\n",
    "from graphdatascience import GraphDataScience\n",
    "from torch_geometric.data import Data, download_url\n",
    "import torch\n",
    "import torch.optim as optim\n",
    "from torch_geometric.nn import TransE"
   ],
   "metadata": {
    "collapsed": false
   }
  },
  {
   "cell_type": "code",
   "execution_count": 2,
   "outputs": [],
   "source": [
    "gds = GraphDataScience(\"bolt://localhost:7687\", auth=('neo4j', 'neo4jneo4j'), database=\"ttt\")"
   ],
   "metadata": {
    "collapsed": false
   }
  },
  {
   "cell_type": "code",
   "execution_count": 3,
   "outputs": [
    {
     "name": "stderr",
     "output_type": "stream",
     "text": [
      "Using existing file train.txt\n",
      "Using existing file valid.txt\n",
      "Using existing file test.txt\n"
     ]
    }
   ],
   "source": [
    "url = ('https://raw.githubusercontent.com/villmow/datasets_knowledge_embedding/master/FB15k-237')\n",
    "raw_file_names = ['train.txt', 'valid.txt', 'test.txt']\n",
    "raw_dir = './data_from_url'\n",
    "for filename in raw_file_names:\n",
    "    download_url(f'{url}/{filename}', raw_dir)"
   ],
   "metadata": {
    "collapsed": false
   }
  },
  {
   "cell_type": "code",
   "execution_count": 4,
   "outputs": [
    {
     "data": {
      "text/plain": "Empty DataFrame\nColumns: []\nIndex: []",
      "text/html": "<div>\n<style scoped>\n    .dataframe tbody tr th:only-of-type {\n        vertical-align: middle;\n    }\n\n    .dataframe tbody tr th {\n        vertical-align: top;\n    }\n\n    .dataframe thead th {\n        text-align: right;\n    }\n</style>\n<table border=\"1\" class=\"dataframe\">\n  <thead>\n    <tr style=\"text-align: right;\">\n      <th></th>\n    </tr>\n  </thead>\n  <tbody>\n  </tbody>\n</table>\n</div>"
     },
     "execution_count": 4,
     "metadata": {},
     "output_type": "execute_result"
    }
   ],
   "source": [
    "gds.run_cypher(\"CREATE CONSTRAINT entity_id FOR (e:Entity) REQUIRE e.id IS UNIQUE\")"
   ],
   "metadata": {
    "collapsed": false
   }
  },
  {
   "cell_type": "code",
   "execution_count": 5,
   "outputs": [
    {
     "name": "stdout",
     "output_type": "stream",
     "text": [
      "Writing 272115 entities of TRAIN\n",
      "Writing 17535 entities of VALID\n",
      "Writing 20466 entities of TEST\n"
     ]
    }
   ],
   "source": [
    "rel_types = {\n",
    "    \"train.txt\":\"TRAIN\",\n",
    "    \"valid.txt\":\"VALID\",\n",
    "    \"test.txt\":\"TEST\",\n",
    "}\n",
    "rel_id_to_text_dict = {}\n",
    "rel_type_dict = collections.defaultdict(list)\n",
    "\n",
    "def process():\n",
    "    node_dict_, rel_dict_ = {}, {}\n",
    "    for file_name in raw_file_names:\n",
    "        file_name_path = raw_dir + '/' + file_name\n",
    "\n",
    "        with open(file_name_path, 'r') as f:\n",
    "            data = [x.split('\\t') for x in f.read().split('\\n')[:-1]]\n",
    "\n",
    "        list_of_dicts = []\n",
    "        for i, (src, rel, dst) in enumerate(data):\n",
    "            if src not in node_dict_:\n",
    "                node_dict_[src] = len(node_dict_)\n",
    "            if dst not in node_dict_:\n",
    "                node_dict_[dst] = len(node_dict_)\n",
    "            if rel not in rel_dict_:\n",
    "                rel_dict_[rel] = len(rel_dict_)\n",
    "                rel_id_to_text_dict[rel_dict_[rel]] = rel\n",
    "\n",
    "            source = node_dict_[src]\n",
    "            target = node_dict_[dst]\n",
    "            edge_type = rel_dict_[rel]\n",
    "\n",
    "            rel_type_dict[edge_type].append({\n",
    "                \"source\":source,\n",
    "                \"target\":target,\n",
    "            })\n",
    "            list_of_dicts.append({\n",
    "                \"source\": source,\n",
    "                \"source_text\": src,\n",
    "                \"target\": target,\n",
    "                \"target_text\": dst,\n",
    "                \"rel_id\": edge_type,\n",
    "            })\n",
    "\n",
    "        rel_type = rel_types[file_name]\n",
    "        print(f\"Writing {len(list_of_dicts)} entities of {rel_type}\")\n",
    "        gds.run_cypher(\n",
    "                    \"UNWIND $ll as l \"+\n",
    "                    \"MERGE (n:Entity {id:l.source, text:l.source_text}) \"+\n",
    "                    \"MERGE (m:Entity {id:l.target, text:l.target_text}) \"+\n",
    "                    \"MERGE (n)-[:\"+rel_type+\" {rel_id:l.rel_id}]->(m) \",\n",
    "                    params={\n",
    "                        \"ll\": list_of_dicts\n",
    "                    },\n",
    "                )\n",
    "\n",
    "    for rel_id in rel_id_to_text_dict:\n",
    "        REL_TYPE = f\"REL_{rel_id}\"\n",
    "        print(f\"Writing {len(rel_id_to_text_dict[rel_id])} entities of {REL_TYPE}\")\n",
    "        gds.run_cypher(\n",
    "                \"UNWIND $ll AS l MATCH (n:Entity {id:l.source}), (m:Entity {id:l.target}) \"+\n",
    "                \"MERGE (n)-[:\"+REL_TYPE+\" {rel_id:$rel_id, text:$text}]->(m) \",\n",
    "                params={\n",
    "                    \"ll\": rel_type_dict[rel_id],\n",
    "                    \"rel_id\": rel_id,\n",
    "                    \"text\": rel_id_to_text_dict[rel_id]\n",
    "                },\n",
    "            )\n",
    "\n",
    "process()"
   ],
   "metadata": {
    "collapsed": false
   }
  },
  {
   "cell_type": "code",
   "execution_count": null,
   "outputs": [],
   "source": [
    "# Node: (:Entity {id:int, text:str})\n",
    "# Edge: [:(TRAIN|TEST|VAL) {rel_id:int, text:str}]"
   ],
   "metadata": {
    "collapsed": false
   }
  },
  {
   "cell_type": "code",
   "execution_count": null,
   "outputs": [],
   "source": [
    "def print_graph_info(G):\n",
    "    print(f\"Graph '{G.name()}' node count: {G.node_count()}\")\n",
    "    print(f\"Graph '{G.name()}' node labels: {G.node_labels()}\")\n",
    "    print(f\"Graph '{G.name()}' relationship types: {G.relationship_types()}\")\n",
    "    print(f\"Graph '{G.name()}' relationship count: {G.relationship_count()}\")\n",
    "\n",
    "def project_graph(edge_label):\n",
    "    node_projection = {\"Entity\": {\"properties\": \"id\"}}\n",
    "    relationship_projection = {edge_label : {\"orientation\": \"NATURAL\", \"properties\": \"rel_id\"}}\n",
    "    G, result = gds.graph.project(\n",
    "        \"fb15k-graph-tt\"+edge_label,\n",
    "        node_projection,\n",
    "        relationship_projection,\n",
    "    )\n",
    "    print(f\"The projection took {result['projectMillis']} ms\")\n",
    "    print_graph_info(G)\n",
    "\n",
    "    return G\n",
    "\n",
    "def get_whole_graph():\n",
    "    node_projection = {\"Entity\": {\"properties\": \"id\"}}\n",
    "    relationship_projection = {\n",
    "        \"TRAIN\" : {\"orientation\": \"NATURAL\", \"properties\": \"rel_id\"},\n",
    "        \"TEST\" : {\"orientation\": \"NATURAL\", \"properties\": \"rel_id\"},\n",
    "        \"VAL\" : {\"orientation\": \"NATURAL\", \"properties\": \"rel_id\"},\n",
    "    }\n",
    "    G, result = gds.graph.project(\n",
    "        \"fb15k-graph-whole\",\n",
    "        node_projection,\n",
    "        relationship_projection,\n",
    "    )\n",
    "    print(f\"The projection took {result['projectMillis']} ms\")\n",
    "    print_graph_info(G)\n",
    "\n",
    "    return G"
   ],
   "metadata": {
    "collapsed": false
   }
  },
  {
   "cell_type": "code",
   "execution_count": null,
   "outputs": [],
   "source": [
    "train_G = project_graph(\"TRAIN\")\n",
    "test_G = project_graph(\"TEST\")\n",
    "val_G = project_graph(\"VAL\")\n",
    "db_G = get_whole_graph()"
   ],
   "metadata": {
    "collapsed": false
   }
  },
  {
   "cell_type": "code",
   "execution_count": null,
   "outputs": [],
   "source": [
    "node_properties = gds.graph.nodeProperties.stream(\n",
    "    db_G,\n",
    "    [\"id\"],\n",
    "    separate_property_columns=True,\n",
    ")\n",
    "print(node_properties)"
   ],
   "metadata": {
    "collapsed": false
   }
  },
  {
   "cell_type": "code",
   "execution_count": null,
   "outputs": [],
   "source": [
    "nodeId_to_id = dict(zip(node_properties.nodeId, node_properties.id))\n",
    "id_to_nodeId = dict(zip(node_properties.id, node_properties.nodeId))"
   ],
   "metadata": {
    "collapsed": false
   }
  },
  {
   "cell_type": "code",
   "execution_count": null,
   "outputs": [],
   "source": [
    "def create_data_from_graph(graph):\n",
    "    rels_tmp = gds.graph.relationshipProperties.stream(graph, [\"rel_id\"], separate_property_columns=True)\n",
    "    topology = [rels_tmp.sourceNodeId.map(lambda x: nodeId_to_id[x]), rels_tmp.targetNodeId.map(lambda x: nodeId_to_id[x])]\n",
    "    edge_index = torch.tensor(topology, dtype=torch.long)\n",
    "    edge_type = torch.tensor(rels_tmp.rel_id.astype(int), dtype=torch.long)\n",
    "    data = Data(edge_index=edge_index, edge_type=edge_type)\n",
    "    data.num_nodes = len(nodeId_to_id)\n",
    "    display(data)\n",
    "    return data\n",
    "\n",
    "train_tensor_data = create_data_from_graph(train_G)\n",
    "test_tensor_data = create_data_from_graph(test_G)\n",
    "val_tensor_data = create_data_from_graph(val_G)"
   ],
   "metadata": {
    "collapsed": false
   }
  },
  {
   "cell_type": "code",
   "execution_count": null,
   "outputs": [],
   "source": [
    "device = 'cuda' if torch.cuda.is_available() else 'cpu'\n",
    "\n",
    "model = TransE(\n",
    "    num_nodes=train_tensor_data.num_nodes,\n",
    "    num_relations=train_tensor_data.num_edge_types,\n",
    "    hidden_channels=50,\n",
    ").to(device)\n",
    "\n",
    "loader = model.loader(\n",
    "    head_index=train_tensor_data.edge_index[0],\n",
    "    rel_type=train_tensor_data.edge_type,\n",
    "    tail_index=train_tensor_data.edge_index[1],\n",
    "    batch_size=1000,\n",
    "    shuffle=True,\n",
    ")\n",
    "\n",
    "optimizer = optim.Adam(model.parameters(), lr=0.01)\n",
    "\n",
    "\n",
    "def train():\n",
    "    model.train()\n",
    "    total_loss = total_examples = 0\n",
    "    for head_index, rel_type, tail_index in loader:\n",
    "        optimizer.zero_grad()\n",
    "        loss = model.loss(head_index, rel_type, tail_index)\n",
    "        loss.backward()\n",
    "        optimizer.step()\n",
    "        total_loss += float(loss) * head_index.numel()\n",
    "        total_examples += head_index.numel()\n",
    "    return total_loss / total_examples\n",
    "\n",
    "\n",
    "@torch.no_grad()\n",
    "def test(data):\n",
    "    model.eval()\n",
    "    return model.test(\n",
    "        head_index=data.edge_index[0],\n",
    "        rel_type=data.edge_type,\n",
    "        tail_index=data.edge_index[1],\n",
    "        batch_size=20000,\n",
    "        k=10,\n",
    "    )\n",
    "\n",
    "\n",
    "for epoch in range(1, 501):\n",
    "    loss = train()\n",
    "    print(f'Epoch: {epoch:03d}, Loss: {loss:.4f}')\n",
    "    if epoch % 75 == 0:\n",
    "        rank, hits = test(val_tensor_data)\n",
    "        print(f'Epoch: {epoch:03d}, Val Mean Rank: {rank:.2f}, '\n",
    "              f'Val Hits@10: {hits:.4f}')\n",
    "\n",
    "print(model)\n",
    "idx = torch.LongTensor([1])\n",
    "print(model.rel_emb(idx))\n",
    "rank, hits_at_10 = test(test_tensor_data)\n",
    "print(f'Test Mean Rank: {rank:.2f}, Test Hits@10: {hits_at_10:.4f}')"
   ],
   "metadata": {
    "collapsed": false
   }
  },
  {
   "cell_type": "code",
   "execution_count": null,
   "outputs": [],
   "source": [
    "torch.save(model, \"./model_501.pt\")"
   ],
   "metadata": {
    "collapsed": false
   }
  },
  {
   "cell_type": "code",
   "execution_count": null,
   "outputs": [],
   "source": [
    "# torch.save(model.state_dict(), \"./model_501_st_dict\")"
   ],
   "metadata": {
    "collapsed": false
   }
  },
  {
   "cell_type": "code",
   "execution_count": null,
   "outputs": [],
   "source": [
    "model = torch.load(\"./model_501.pt\")"
   ],
   "metadata": {
    "collapsed": false
   }
  },
  {
   "cell_type": "code",
   "execution_count": null,
   "outputs": [],
   "source": [
    "# write embeddings to graph\n",
    "for i in range(0, len(nodeId_to_id)):\n",
    "    if i % 100 == 0:\n",
    "        print(f\"Node embeddings uploading: {i} of {len(nodeId_to_id)}\", end=\"\\r\")\n",
    "    gds.run_cypher(\n",
    "            \"MATCH (n:Entity {id: $i}) SET n.emb = $EMBEDDING\",\n",
    "            params={\n",
    "                \"i\": i,\n",
    "                \"EMBEDDING\": model.node_emb.weight[i].tolist()\n",
    "            },\n",
    "        )"
   ],
   "metadata": {
    "collapsed": false
   }
  },
  {
   "cell_type": "code",
   "execution_count": null,
   "outputs": [],
   "source": [
    "# prediction stage"
   ],
   "metadata": {
    "collapsed": false
   }
  },
  {
   "cell_type": "code",
   "execution_count": null,
   "outputs": [],
   "source": [
    "# 1. Pick relation id to predict\n",
    "rel_id_to_predict = 17\n",
    "rel_label_to_predict = f\"REL_{rel_id_to_predict}\""
   ],
   "metadata": {
    "collapsed": false
   }
  },
  {
   "cell_type": "code",
   "execution_count": null,
   "outputs": [],
   "source": [
    "# 2. Put correspond relationships to the graph\n",
    "def write_rel_chunk(ll:list, label):\n",
    "    gds.run_cypher(\n",
    "            \"UNWIND $list AS l MATCH (e_s:Entity {id: l.source}), (e_t:Entity {id: l.target}) \"+\n",
    "            \"CREATE (e_s)-[\"+label+\"{ text: l.text }]->(e_t)\",\n",
    "            params={\"list\": ll},\n",
    "        )\n",
    "\n",
    "data = test_tensor\n",
    "list_of_target_rels = []\n",
    "for i in range(data.num_edges):\n",
    "    if data.edge_type[i].item() != rel_id_to_predict:\n",
    "        pass\n",
    "    source = data.edge_index[0, i].item()\n",
    "    target = data.edge_index[1, i].item()\n",
    "    id = data.edge_type[i].item()\n",
    "    text = rel_id_to_text_dict[id]\n",
    "    l = {\n",
    "        \"source\": source,\n",
    "        \"target\": target,\n",
    "        \"text\": text\n",
    "    }\n",
    "    list_of_target_rels.append(l)\n",
    "write_rel_chunk(list_of_target_rels, \":\"+rel_label_to_predict)"
   ],
   "metadata": {
    "collapsed": false
   }
  },
  {
   "cell_type": "code",
   "execution_count": null,
   "outputs": [],
   "source": [
    "# 3. Get embedding of that rel from the model\n",
    "target_emb = model.node_emb.weight[rel_id_to_predict].tolist()"
   ],
   "metadata": {
    "collapsed": false
   }
  },
  {
   "cell_type": "code",
   "execution_count": null,
   "outputs": [],
   "source": [
    "# 4. Project graph to test\n",
    "node_projection_test = {\"Entity\": {\"properties\": [\"id\", \"emb\"] }}\n",
    "relationship_projection_test = {rel_label_to_predict : {\"orientation\": \"NATURAL\"}}\n",
    "G_test, result = gds.graph.project(\n",
    "        \"graph_to_test1\",\n",
    "        node_projection_test,\n",
    "        relationship_projection_test,\n",
    "    )\n",
    "print_graph_info(G_test)"
   ],
   "metadata": {
    "collapsed": false
   }
  },
  {
   "cell_type": "code",
   "execution_count": null,
   "outputs": [],
   "source": [
    "# 5. Set the model to predict\n",
    "transe_model = gds.model.transe.create(\n",
    "    G_test, \"emb\", {rel_label_to_predict: target_emb}\n",
    ")\n",
    "result = transe_model.predict_stream(\n",
    "    source_node_filter=[id_to_nodeId[5], id_to_nodeId[10]],\n",
    "    target_node_filter=\"Entity\",\n",
    "    relationship_type=rel_label_to_predict,\n",
    "    top_k=3,\n",
    "    concurrency=4\n",
    ")\n",
    "print(result)"
   ],
   "metadata": {
    "collapsed": false
   }
  }
 ],
 "metadata": {
  "kernelspec": {
   "display_name": "Python 3",
   "language": "python",
   "name": "python3"
  },
  "language_info": {
   "codemirror_mode": {
    "name": "ipython",
    "version": 2
   },
   "file_extension": ".py",
   "mimetype": "text/x-python",
   "name": "python",
   "nbconvert_exporter": "python",
   "pygments_lexer": "ipython2",
   "version": "2.7.6"
  }
 },
 "nbformat": 4,
 "nbformat_minor": 0
}
