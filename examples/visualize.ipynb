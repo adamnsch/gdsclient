{
 "cells": [
  {
   "cell_type": "markdown",
   "id": "82568b27",
   "metadata": {},
   "source": [
    "# Visualizing GDS Projections"
   ]
  },
  {
   "cell_type": "markdown",
   "id": "c4b7883a",
   "metadata": {
    "colab_type": "text"
   },
   "source": [
    "<a target=\"_blank\" href=\"https://colab.research.google.com/github/neo4j/graph-data-science-client/blob/main/examples/import-sample-export-gnn.ipynb\">\n",
    "  <img src=\"https://colab.research.google.com/assets/colab-badge.svg\" alt=\"Open In Colab\"/>\n",
    "</a>"
   ]
  },
  {
   "cell_type": "markdown",
   "id": "922d0fbb",
   "metadata": {},
   "source": [
    "This Jupyter notebook is hosted [here](https://github.com/neo4j/graph-data-science-client/blob/main/examples/visualize-with-pyvis.ipynb) in the Neo4j Graph Data Science Client Github repository.\n",
    "\n",
    "The notebook exemplifies how to visualize a graph projection in the GDS Graph Catalog using the `graphdatascience` ([docs](https://neo4j.com/docs/graph-data-science-client/current/)) and `pyvis` ([docs](https://pyvis.readthedocs.io/en/latest/index.html)) libraries."
   ]
  },
  {
   "cell_type": "markdown",
   "id": "c64321df",
   "metadata": {},
   "source": [
    "## Prerequisites\n",
    "\n",
    "Running this notebook requires a Neo4j server with GDS installed.\n",
    "We recommend using Neo4j Desktop with GDS, or AuraDS.\n",
    "\n",
    "Also required are of course the Python libraries `graphdatascience` and `pyvis`:"
   ]
  },
  {
   "cell_type": "code",
   "execution_count": null,
   "id": "dc4c3baf",
   "metadata": {},
   "outputs": [],
   "source": [
    "%pip install graphdatascience pyvis"
   ]
  },
  {
   "cell_type": "markdown",
   "id": "3bdf33d6",
   "metadata": {},
   "source": [
    "## Setup\n",
    "\n",
    "We start by importing our dependencies and setting up our GDS client connection to the database."
   ]
  },
  {
   "cell_type": "code",
   "execution_count": 1,
   "id": "26fb276b",
   "metadata": {},
   "outputs": [],
   "source": [
    "from graphdatascience import GraphDataScience\n",
    "import os\n",
    "from pyvis.network import Network"
   ]
  },
  {
   "cell_type": "code",
   "execution_count": 2,
   "id": "937f1476",
   "metadata": {},
   "outputs": [],
   "source": [
    "# Get Neo4j DB URI, credentials and name from environment if applicable\n",
    "NEO4J_URI = os.environ.get(\"NEO4J_URI\", \"bolt://localhost:7687\")\n",
    "NEO4J_AUTH = None\n",
    "NEO4J_DB = os.environ.get(\"NEO4J_DB\", \"neo4j\")\n",
    "if os.environ.get(\"NEO4J_USER\") and os.environ.get(\"NEO4J_PASSWORD\"):\n",
    "    NEO4J_AUTH = (\n",
    "        os.environ.get(\"NEO4J_USER\"),\n",
    "        os.environ.get(\"NEO4J_PASSWORD\"),\n",
    "    )\n",
    "gds = GraphDataScience(NEO4J_URI, auth=NEO4J_AUTH, database=NEO4J_DB)"
   ]
  },
  {
   "cell_type": "markdown",
   "id": "b1a8ab78",
   "metadata": {},
   "source": [
    "## Sampling Cora\n",
    "\n",
    "Next we use the [built-in Cora loader](https://neo4j.com/docs/graph-data-science-client/current/common-datasets/#_cora) to get the data into GDS.\n",
    "The nodes in the Cora dataset is represented by academic papers, and the relationships connecting them are citations.\n",
    "\n",
    "We will then sample a smaller representative subgraph from it that is more suitable for visualization."
   ]
  },
  {
   "cell_type": "code",
   "execution_count": 3,
   "id": "a575da60",
   "metadata": {},
   "outputs": [],
   "source": [
    "G = gds.graph.load_cora()"
   ]
  },
  {
   "cell_type": "markdown",
   "id": "723d6457",
   "metadata": {},
   "source": [
    "Let's make sure we constructed the correct graph."
   ]
  },
  {
   "cell_type": "code",
   "execution_count": 4,
   "id": "428ac7b8",
   "metadata": {},
   "outputs": [
    {
     "name": "stdout",
     "output_type": "stream",
     "text": [
      "Metadata for our loaded Cora graph `G`: Graph(name=cora, node_count=2708, relationship_count=5429)\n",
      "Node labels present in `G`: ['Paper']\n"
     ]
    }
   ],
   "source": [
    "print(f\"Metadata for our loaded Cora graph `G`: {G}\")\n",
    "print(f\"Node labels present in `G`: {G.node_labels()}\")"
   ]
  },
  {
   "cell_type": "markdown",
   "id": "3e8b8a83",
   "metadata": {},
   "source": [
    "It's looks correct!\n",
    "Now let's go ahead and sample the graph.\n",
    "\n",
    "We use the random walk with restarts sampling algorithm to get a smaller graph that structurally represents the full graph.\n",
    "In this example we will use the algorithm's default parameters, but check out [the algorithm's docs](https://neo4j.com/docs/graph-data-science/current/management-ops/graph-creation/sampling/rwr/) to see how you can for example specify the size of the subgraph, and choose which start node around which the subgraph will be sampled."
   ]
  },
  {
   "cell_type": "code",
   "execution_count": 5,
   "id": "3d116738",
   "metadata": {},
   "outputs": [],
   "source": [
    "G_sample, _ = gds.graph.sample.rwr(\"cora_sample\", G, randomSeed=42, concurrency=1)"
   ]
  },
  {
   "cell_type": "markdown",
   "id": "324e0d4c",
   "metadata": {},
   "source": [
    "We should have somewhere around 0.15 * 2708 ~ 406 nodes in our sample.\n",
    "And let's see how many relationships we got."
   ]
  },
  {
   "cell_type": "code",
   "execution_count": 6,
   "id": "d66ea2d5",
   "metadata": {},
   "outputs": [
    {
     "name": "stdout",
     "output_type": "stream",
     "text": [
      "Number of nodes in our sample: 406\n",
      "Number of relationships in our sample: 532\n"
     ]
    }
   ],
   "source": [
    "print(f\"Number of nodes in our sample: {G_sample.node_count()}\")\n",
    "print(f\"Number of relationships in our sample: {G_sample.relationship_count()}\")"
   ]
  },
  {
   "cell_type": "markdown",
   "id": "3dd66079",
   "metadata": {},
   "source": [
    "Let's also compute [PageRank](https://neo4j.com/docs/graph-data-science/current/algorithms/page-rank/) on our sample graph, in order to get an importance score that we call \"rank\" for each node.\n",
    "It will be interesting for context when we visualize the graph."
   ]
  },
  {
   "cell_type": "code",
   "execution_count": 7,
   "id": "3d80d653",
   "metadata": {},
   "outputs": [
    {
     "data": {
      "text/plain": [
       "mutateMillis                                                              0\n",
       "nodePropertiesWritten                                                   406\n",
       "ranIterations                                                            20\n",
       "didConverge                                                           False\n",
       "centralityDistribution    {'min': 0.14999961853027344, 'max': 2.27294921...\n",
       "postProcessingMillis                                                      1\n",
       "preProcessingMillis                                                       0\n",
       "computeMillis                                                             7\n",
       "configuration             {'mutateProperty': 'rank', 'jobId': '5ca450ff-...\n",
       "Name: 0, dtype: object"
      ]
     },
     "execution_count": 7,
     "metadata": {},
     "output_type": "execute_result"
    }
   ],
   "source": [
    "gds.pageRank.mutate(G_sample, mutateProperty=\"rank\")"
   ]
  },
  {
   "cell_type": "markdown",
   "id": "722caa7b",
   "metadata": {},
   "source": [
    "## Exporting the sampled Cora graph\n",
    "\n",
    "We can now export the topology and node properties of our sampled graph that we want to visualize.\n",
    "\n",
    "Let's start by fetching the relationships."
   ]
  },
  {
   "cell_type": "code",
   "execution_count": 8,
   "id": "d3c76b25",
   "metadata": {},
   "outputs": [
    {
     "data": {
      "text/html": [
       "<div>\n",
       "<style scoped>\n",
       "    .dataframe tbody tr th:only-of-type {\n",
       "        vertical-align: middle;\n",
       "    }\n",
       "\n",
       "    .dataframe tbody tr th {\n",
       "        vertical-align: top;\n",
       "    }\n",
       "\n",
       "    .dataframe thead th {\n",
       "        text-align: right;\n",
       "    }\n",
       "</style>\n",
       "<table border=\"1\" class=\"dataframe\">\n",
       "  <thead>\n",
       "    <tr style=\"text-align: right;\">\n",
       "      <th></th>\n",
       "      <th>sourceNodeId</th>\n",
       "      <th>targetNodeId</th>\n",
       "      <th>relationshipType</th>\n",
       "    </tr>\n",
       "  </thead>\n",
       "  <tbody>\n",
       "    <tr>\n",
       "      <th>0</th>\n",
       "      <td>31336</td>\n",
       "      <td>31349</td>\n",
       "      <td>CITES</td>\n",
       "    </tr>\n",
       "    <tr>\n",
       "      <th>1</th>\n",
       "      <td>31336</td>\n",
       "      <td>686532</td>\n",
       "      <td>CITES</td>\n",
       "    </tr>\n",
       "    <tr>\n",
       "      <th>2</th>\n",
       "      <td>31336</td>\n",
       "      <td>1129442</td>\n",
       "      <td>CITES</td>\n",
       "    </tr>\n",
       "    <tr>\n",
       "      <th>3</th>\n",
       "      <td>31349</td>\n",
       "      <td>686532</td>\n",
       "      <td>CITES</td>\n",
       "    </tr>\n",
       "    <tr>\n",
       "      <th>4</th>\n",
       "      <td>31353</td>\n",
       "      <td>31336</td>\n",
       "      <td>CITES</td>\n",
       "    </tr>\n",
       "    <tr>\n",
       "      <th>...</th>\n",
       "      <td>...</td>\n",
       "      <td>...</td>\n",
       "      <td>...</td>\n",
       "    </tr>\n",
       "    <tr>\n",
       "      <th>527</th>\n",
       "      <td>34961</td>\n",
       "      <td>31043</td>\n",
       "      <td>CITES</td>\n",
       "    </tr>\n",
       "    <tr>\n",
       "      <th>528</th>\n",
       "      <td>34961</td>\n",
       "      <td>22883</td>\n",
       "      <td>CITES</td>\n",
       "    </tr>\n",
       "    <tr>\n",
       "      <th>529</th>\n",
       "      <td>102879</td>\n",
       "      <td>9513</td>\n",
       "      <td>CITES</td>\n",
       "    </tr>\n",
       "    <tr>\n",
       "      <th>530</th>\n",
       "      <td>102884</td>\n",
       "      <td>9513</td>\n",
       "      <td>CITES</td>\n",
       "    </tr>\n",
       "    <tr>\n",
       "      <th>531</th>\n",
       "      <td>767763</td>\n",
       "      <td>1136631</td>\n",
       "      <td>CITES</td>\n",
       "    </tr>\n",
       "  </tbody>\n",
       "</table>\n",
       "<p>532 rows × 3 columns</p>\n",
       "</div>"
      ],
      "text/plain": [
       "     sourceNodeId  targetNodeId relationshipType\n",
       "0           31336         31349            CITES\n",
       "1           31336        686532            CITES\n",
       "2           31336       1129442            CITES\n",
       "3           31349        686532            CITES\n",
       "4           31353         31336            CITES\n",
       "..            ...           ...              ...\n",
       "527         34961         31043            CITES\n",
       "528         34961         22883            CITES\n",
       "529        102879          9513            CITES\n",
       "530        102884          9513            CITES\n",
       "531        767763       1136631            CITES\n",
       "\n",
       "[532 rows x 3 columns]"
      ]
     },
     "metadata": {},
     "output_type": "display_data"
    }
   ],
   "source": [
    "sample_topology_df = gds.graph.relationships.stream(G_sample)\n",
    "display(sample_topology_df)"
   ]
  },
  {
   "cell_type": "markdown",
   "id": "a4ad967b",
   "metadata": {},
   "source": [
    "We get the right amount of rows, one for each expected relationship.\n",
    "So that looks good.\n",
    "\n",
    "Next we should fetch the node properties we are interested in.\n",
    "Each node will have a \"subject\" property which will be an integer 0,...,6 that indicates which of seven academic subjects the paper represented by the nodes belong to.\n",
    "We will also fetch the PageRank property \"rank\" that we computed above."
   ]
  },
  {
   "cell_type": "code",
   "execution_count": 9,
   "id": "1c52e3b2",
   "metadata": {},
   "outputs": [
    {
     "data": {
      "text/html": [
       "<div>\n",
       "<style scoped>\n",
       "    .dataframe tbody tr th:only-of-type {\n",
       "        vertical-align: middle;\n",
       "    }\n",
       "\n",
       "    .dataframe tbody tr th {\n",
       "        vertical-align: top;\n",
       "    }\n",
       "\n",
       "    .dataframe thead th {\n",
       "        text-align: right;\n",
       "    }\n",
       "</style>\n",
       "<table border=\"1\" class=\"dataframe\">\n",
       "  <thead>\n",
       "    <tr style=\"text-align: right;\">\n",
       "      <th></th>\n",
       "      <th>nodeId</th>\n",
       "      <th>rank</th>\n",
       "      <th>subject</th>\n",
       "    </tr>\n",
       "  </thead>\n",
       "  <tbody>\n",
       "    <tr>\n",
       "      <th>0</th>\n",
       "      <td>164</td>\n",
       "      <td>0.245964</td>\n",
       "      <td>4.0</td>\n",
       "    </tr>\n",
       "    <tr>\n",
       "      <th>1</th>\n",
       "      <td>434</td>\n",
       "      <td>0.158500</td>\n",
       "      <td>2.0</td>\n",
       "    </tr>\n",
       "    <tr>\n",
       "      <th>2</th>\n",
       "      <td>1694</td>\n",
       "      <td>0.961240</td>\n",
       "      <td>5.0</td>\n",
       "    </tr>\n",
       "    <tr>\n",
       "      <th>3</th>\n",
       "      <td>1949</td>\n",
       "      <td>0.224912</td>\n",
       "      <td>6.0</td>\n",
       "    </tr>\n",
       "    <tr>\n",
       "      <th>4</th>\n",
       "      <td>1952</td>\n",
       "      <td>0.150000</td>\n",
       "      <td>6.0</td>\n",
       "    </tr>\n",
       "    <tr>\n",
       "      <th>...</th>\n",
       "      <td>...</td>\n",
       "      <td>...</td>\n",
       "      <td>...</td>\n",
       "    </tr>\n",
       "    <tr>\n",
       "      <th>401</th>\n",
       "      <td>1154103</td>\n",
       "      <td>0.319498</td>\n",
       "      <td>3.0</td>\n",
       "    </tr>\n",
       "    <tr>\n",
       "      <th>402</th>\n",
       "      <td>1154124</td>\n",
       "      <td>0.627706</td>\n",
       "      <td>0.0</td>\n",
       "    </tr>\n",
       "    <tr>\n",
       "      <th>403</th>\n",
       "      <td>1154169</td>\n",
       "      <td>0.154784</td>\n",
       "      <td>0.0</td>\n",
       "    </tr>\n",
       "    <tr>\n",
       "      <th>404</th>\n",
       "      <td>1154251</td>\n",
       "      <td>0.187675</td>\n",
       "      <td>0.0</td>\n",
       "    </tr>\n",
       "    <tr>\n",
       "      <th>405</th>\n",
       "      <td>1154276</td>\n",
       "      <td>0.277500</td>\n",
       "      <td>0.0</td>\n",
       "    </tr>\n",
       "  </tbody>\n",
       "</table>\n",
       "<p>406 rows × 3 columns</p>\n",
       "</div>"
      ],
      "text/plain": [
       "      nodeId      rank  subject\n",
       "0        164  0.245964      4.0\n",
       "1        434  0.158500      2.0\n",
       "2       1694  0.961240      5.0\n",
       "3       1949  0.224912      6.0\n",
       "4       1952  0.150000      6.0\n",
       "..       ...       ...      ...\n",
       "401  1154103  0.319498      3.0\n",
       "402  1154124  0.627706      0.0\n",
       "403  1154169  0.154784      0.0\n",
       "404  1154251  0.187675      0.0\n",
       "405  1154276  0.277500      0.0\n",
       "\n",
       "[406 rows x 3 columns]"
      ]
     },
     "metadata": {},
     "output_type": "display_data"
    }
   ],
   "source": [
    "sample_node_properties_df = gds.graph.nodeProperties.stream(\n",
    "    G_sample,\n",
    "    [\"subject\", \"rank\"],\n",
    "    separate_property_columns=True,\n",
    ")\n",
    "display(sample_node_properties_df)"
   ]
  },
  {
   "cell_type": "markdown",
   "id": "ff81f977",
   "metadata": {},
   "source": [
    "Now that we have all the data we want to visualize, we can create a network with PyVis.\n",
    "We color each node according to its \"subject\", and size it according to its \"rank\"."
   ]
  },
  {
   "cell_type": "code",
   "execution_count": 10,
   "id": "93cb3bdf",
   "metadata": {},
   "outputs": [
    {
     "name": "stdout",
     "output_type": "stream",
     "text": [
      "cora-sample.html\n"
     ]
    },
    {
     "data": {
      "text/html": [
       "\n",
       "        <iframe\n",
       "            width=\"100%\"\n",
       "            height=\"750px\"\n",
       "            src=\"cora-sample.html\"\n",
       "            frameborder=\"0\"\n",
       "            allowfullscreen\n",
       "            \n",
       "        ></iframe>\n",
       "        "
      ],
      "text/plain": [
       "<IPython.lib.display.IFrame at 0x128adaee0>"
      ]
     },
     "execution_count": 10,
     "metadata": {},
     "output_type": "execute_result"
    }
   ],
   "source": [
    "net = Network(notebook = True,\n",
    "cdn_resources=\"remote\",\n",
    "                bgcolor = \"#222222\",\n",
    "                font_color = \"white\",\n",
    "                height = \"750px\", # Modify according to your screen size\n",
    "                width = \"100%\",\n",
    ")\n",
    "\n",
    "# Seven suitable light colors, one for each \"subject\"\n",
    "subject_to_color = [\"#80cce9\", \"#fbd266\", \"#a9eebc\", \"#e53145\", \"#d2a6e2\", \"#f3f3f3\", \"#ff91af\"]\n",
    "\n",
    "# Add all the nodes\n",
    "for _, node in sample_node_properties_df.iterrows():\n",
    "    net.add_node(int(node[\"nodeId\"]), color=subject_to_color[int(node[\"subject\"])], value=node[\"rank\"])\n",
    "\n",
    "# Add all the relationships\n",
    "net.add_edges(zip(sample_topology_df[\"sourceNodeId\"], sample_topology_df[\"targetNodeId\"]))\n",
    "\n",
    "net.show(\"cora-sample.html\")"
   ]
  },
  {
   "cell_type": "markdown",
   "id": "8f8bc4a2",
   "metadata": {},
   "source": [
    "Unsurprisingly we can see that papers largely seem clustered by academic subject.\n",
    "We also note that some nodes appear larger in size, indicating that they have a higher centrality score according to PageRank.\n",
    "\n",
    "We can scroll over the graphic to zoom in/out, and \"click and drag\" the background to navigate to different parts of the network.\n",
    "If we click on a node, it will be highlighted along with the relationships connected to it.\n",
    "And if we \"click and drag\" a node, we can move it.\n",
    "\n",
    "Additionally one could enable more sophisticated navigational features for searching and filtering by providing `select_menu = True` and `filter_menu = True` respectively to the PyVis `Network` constructor above.\n",
    "Check out the [PyVis documentation](https://pyvis.readthedocs.io/en/latest/index.html) for this."
   ]
  },
  {
   "cell_type": "markdown",
   "id": "928156de",
   "metadata": {},
   "source": [
    "## Cleanup\n",
    "\n",
    "We remove the Cora graphs from the GDS graph catalog to free up memory."
   ]
  },
  {
   "cell_type": "code",
   "execution_count": 11,
   "id": "33523a0b",
   "metadata": {},
   "outputs": [],
   "source": [
    "_ = G_sample.drop()\n",
    "_ = G.drop()"
   ]
  }
 ],
 "metadata": {
  "kernelspec": {
   "display_name": "Python 3 (ipykernel)",
   "language": "python",
   "name": "python3"
  },
  "language_info": {
   "codemirror_mode": {
    "name": "ipython",
    "version": 3
   },
   "file_extension": ".py",
   "mimetype": "text/x-python",
   "name": "python",
   "nbconvert_exporter": "python",
   "pygments_lexer": "ipython3",
   "version": "3.9.6"
  }
 },
 "nbformat": 4,
 "nbformat_minor": 5
}
